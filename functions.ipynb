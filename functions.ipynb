{
 "cells": [
  {
   "cell_type": "code",
   "execution_count": 1,
   "metadata": {},
   "outputs": [
    {
     "data": {
      "text/plain": [
       "8"
      ]
     },
     "execution_count": 1,
     "metadata": {},
     "output_type": "execute_result"
    }
   ],
   "source": [
    "def addition (x,y): #func_name(positional_bparameters)\n",
    "    total=x+y\n",
    "    return total\n",
    "\n",
    "addition(2,6)"
   ]
  },
  {
   "cell_type": "code",
   "execution_count": 3,
   "metadata": {},
   "outputs": [
    {
     "data": {
      "text/plain": [
       "\"It's True\""
      ]
     },
     "execution_count": 3,
     "metadata": {},
     "output_type": "execute_result"
    }
   ],
   "source": [
    "def num(x):\n",
    "    if x:\n",
    "        return \"It's True\"\n",
    "    else:\n",
    "        return \"It's False\"\n",
    "    \n",
    "num(True)\n"
   ]
  },
  {
   "cell_type": "code",
   "execution_count": 6,
   "metadata": {},
   "outputs": [
    {
     "name": "stdout",
     "output_type": "stream",
     "text": [
      "hello\n",
      "hello\n",
      "ret is: hello\n",
      "other is: None\n"
     ]
    }
   ],
   "source": [
    "def printAndReturnNothing():\n",
    "    x = \"hello\"\n",
    "    print(x)\n",
    "\n",
    "def printAndReturn():\n",
    "    x = \"hello\"\n",
    "    print(x)\n",
    "    return x\n",
    "\n",
    "def main():\n",
    "    ret = printAndReturn()\n",
    "    other = printAndReturnNothing()\n",
    "\n",
    "    print(\"ret is: %s\" % ret)\n",
    "    print(\"other is: %s\" % other)\n",
    "    \n",
    "if __name__ == \"__main__\":\n",
    "    main()"
   ]
  }
 ],
 "metadata": {
  "kernelspec": {
   "display_name": "Python 3",
   "language": "python",
   "name": "python3"
  },
  "language_info": {
   "codemirror_mode": {
    "name": "ipython",
    "version": 3
   },
   "file_extension": ".py",
   "mimetype": "text/x-python",
   "name": "python",
   "nbconvert_exporter": "python",
   "pygments_lexer": "ipython3",
   "version": "3.6.1"
  }
 },
 "nbformat": 4,
 "nbformat_minor": 2
}
