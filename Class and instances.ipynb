{
 "cells": [
  {
   "cell_type": "code",
   "execution_count": 6,
   "metadata": {},
   "outputs": [
    {
     "name": "stdout",
     "output_type": "stream",
     "text": [
      "<__main__.Employee object at 0x000002D7F9A4E908>\n",
      "<__main__.Employee object at 0x000002D7F9A4E898>\n",
      "kate.baldwin@company.com\n"
     ]
    }
   ],
   "source": [
    "class Employee:\n",
    "    pass\n",
    "\n",
    "emp_1=Employee()\n",
    "emp_2= Employee()\n",
    "print(emp_1)\n",
    "print(emp_2)\n",
    "\n",
    "emp_1.first='Corey'\n",
    "emp_1.second= 'Schafer'\n",
    "emp_1.email='corey.shafer@company.com'\n",
    "emp_1.pay=50000\n",
    "\n",
    "emp_2.first='Kate'\n",
    "emp_2.second= 'Baldwin'\n",
    "emp_2.email='kate.baldwin@company.com'\n",
    "emp_2.pay=60000\n",
    "\n",
    "print(emp_2.email)\n",
    "\n"
   ]
  }
 ],
 "metadata": {
  "kernelspec": {
   "display_name": "Python 3",
   "language": "python",
   "name": "python3"
  },
  "language_info": {
   "codemirror_mode": {
    "name": "ipython",
    "version": 3
   },
   "file_extension": ".py",
   "mimetype": "text/x-python",
   "name": "python",
   "nbconvert_exporter": "python",
   "pygments_lexer": "ipython3",
   "version": "3.6.1"
  }
 },
 "nbformat": 4,
 "nbformat_minor": 2
}
