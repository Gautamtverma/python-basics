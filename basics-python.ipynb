{
 "cells": [
  {
   "cell_type": "code",
   "execution_count": null,
   "metadata": {
    "collapsed": true
   },
   "outputs": [],
   "source": [
    "# You can use python like a calculator\n",
    "2+3"
   ]
  },
  {
   "cell_type": "code",
   "execution_count": null,
   "metadata": {
    "collapsed": true
   },
   "outputs": [],
   "source": [
    "# Comments starts with a hash \n",
    "# You can define different type of variables\n",
    "x = 2\n",
    "name = \"Python\"\n",
    "price = 4.5\n",
    "\n",
    "#To print a value use print\n",
    "print(x)\n",
    "print(name)\n",
    "print(price)"
   ]
  },
  {
   "cell_type": "code",
   "execution_count": null,
   "metadata": {
    "collapsed": true
   },
   "outputs": [],
   "source": [
    "#Operate upon these variables\n",
    "y = x + 4\n",
    "print(y)\n",
    "\n",
    "fullname = name + \" Language\"\n",
    "print(fullname)\n",
    "\n",
    "amount = price*x\n",
    "print(amount)"
   ]
  },
  {
   "cell_type": "code",
   "execution_count": null,
   "metadata": {
    "collapsed": true
   },
   "outputs": [],
   "source": [
    "#Define complex expressions\n",
    "x = 0.6\n",
    "x = 3.9   *   x   *   (  1   -   x  )\n",
    "print(x)"
   ]
  },
  {
   "cell_type": "code",
   "execution_count": null,
   "metadata": {
    "collapsed": true
   },
   "outputs": [],
   "source": [
    "#Some more expressions\n",
    "x = 5\n",
    "x = 1 + 2 * 3 - 4 / 5 ** 6\n",
    "print(x)"
   ]
  },
  {
   "cell_type": "code",
   "execution_count": null,
   "metadata": {
    "collapsed": true
   },
   "outputs": [],
   "source": [
    "#To know what kind of data a variable has use type\n",
    "print(x)\n",
    "type(x)\n",
    "help(x)"
   ]
  },
  {
   "cell_type": "code",
   "execution_count": null,
   "metadata": {
    "collapsed": true
   },
   "outputs": [],
   "source": [
    "# You can save the lines in a file\n",
    "# either run on command prompt using python with the file\n",
    "#or use run here\n",
    "%run simpleexp.py\n",
    "%run hello.py"
   ]
  },
  {
   "cell_type": "code",
   "execution_count": null,
   "metadata": {
    "collapsed": true
   },
   "outputs": [],
   "source": [
    "!python hello.py"
   ]
  },
  {
   "cell_type": "code",
   "execution_count": null,
   "metadata": {
    "collapsed": true
   },
   "outputs": [],
   "source": [
    "#Read from user\n",
    "nam = input('Who are you?')\n",
    "print ('Welcome', nam)"
   ]
  },
  {
   "cell_type": "code",
   "execution_count": null,
   "metadata": {
    "collapsed": true
   },
   "outputs": [],
   "source": [
    "#Write a program to prompt the user for hours \n",
    "# and rate per hour to compute gross pay.\n",
    "#Enter Hours: 35 \n",
    "#Enter Rate: 2.75 \n",
    "#Pay: 96.25\n",
    "try:\n",
    "    pay = float(input(\"Hours:\")) * float(input(\"Pay:\"))\n",
    "    print(pay)\n",
    "except:\n",
    "    print(\"Wrong Input\")"
   ]
  },
  {
   "cell_type": "code",
   "execution_count": null,
   "metadata": {
    "collapsed": true
   },
   "outputs": [],
   "source": [
    "# Comparison Operators\n",
    "x = 5\n",
    "if x == 5 : \n",
    "    print ('Equals 5')\n",
    "if x > 4 : \n",
    "   print ('Greater than 4')\n",
    "if  x >= 5 :\n",
    "    print ('Greater than or Equals 5')\n",
    "if x < 6 : \n",
    "    print ('Less than 6')\n",
    "if x <= 5 :\n",
    "    print ('Less than or Equals 5')\n",
    "if x != 6 :\n",
    "    print ('Not equal 6')"
   ]
  },
  {
   "cell_type": "code",
   "execution_count": null,
   "metadata": {
    "collapsed": true
   },
   "outputs": [],
   "source": [
    "'''\n",
    "In Python, anonymous function is a function that is defined without a name. \n",
    "While normal functions are defined using the def keyword, \n",
    "in Python anonymous functions are defined using the lambda keyword\n",
    "'''\n",
    "sum = lambda x,y: x + y\n",
    "sum(4,5)"
   ]
  },
  {
   "cell_type": "code",
   "execution_count": null,
   "metadata": {
    "collapsed": true
   },
   "outputs": [],
   "source": [
    "x"
   ]
  },
  {
   "cell_type": "code",
   "execution_count": null,
   "metadata": {
    "collapsed": true
   },
   "outputs": [],
   "source": [
    "x.length"
   ]
  },
  {
   "cell_type": "code",
   "execution_count": null,
   "metadata": {
    "collapsed": true
   },
   "outputs": [],
   "source": [
    "x.length()"
   ]
  },
  {
   "cell_type": "code",
   "execution_count": null,
   "metadata": {
    "collapsed": true
   },
   "outputs": [],
   "source": [
    "len(x)"
   ]
  },
  {
   "cell_type": "code",
   "execution_count": 1,
   "metadata": {},
   "outputs": [
    {
     "data": {
      "text/plain": [
       "['this', 'is', 'a', 'sentense']"
      ]
     },
     "execution_count": 1,
     "metadata": {},
     "output_type": "execute_result"
    }
   ],
   "source": [
    "\"this is a sentense\".split()"
   ]
  },
  {
   "cell_type": "code",
   "execution_count": 1,
   "metadata": {},
   "outputs": [
    {
     "name": "stdout",
     "output_type": "stream",
     "text": [
      "[41, 12]\n",
      "[9, 41, 12, 3]\n",
      "[3, 74, 15]\n",
      "[9, 41, 12, 3, 74, 15]\n"
     ]
    }
   ],
   "source": [
    "# Lists can be sliced using :\n",
    "\n",
    "t = [9, 41, 12, 3, 74, 15]\n",
    "print(t[1:3])\n",
    "print(t[:4])\n",
    "print(t[3:])\n",
    "print(t[:])"
   ]
  },
  {
   "cell_type": "code",
   "execution_count": null,
   "metadata": {
    "collapsed": true
   },
   "outputs": [],
   "source": [
    "# Built-in Functions and Lists\n",
    "nums = [3, 41, 12, 9, 74, 15]\n",
    "print (len(nums))\n",
    "print (max(nums))\n",
    "print (min(nums))\n",
    "print (sum(nums))\n",
    "print (sum(nums)/len(nums))"
   ]
  }
 ],
 "metadata": {
  "kernelspec": {
   "display_name": "Python 3",
   "language": "python",
   "name": "python3"
  },
  "language_info": {
   "codemirror_mode": {
    "name": "ipython",
    "version": 3
   },
   "file_extension": ".py",
   "mimetype": "text/x-python",
   "name": "python",
   "nbconvert_exporter": "python",
   "pygments_lexer": "ipython3",
   "version": "3.6.1"
  }
 },
 "nbformat": 4,
 "nbformat_minor": 2
}
